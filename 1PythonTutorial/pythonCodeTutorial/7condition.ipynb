{
 "cells": [
  {
   "cell_type": "markdown",
   "metadata": {},
   "source": [
    "# Python If ... Else\n",
    "\n",
    "Python Conditions and If statements\n",
    "Python supports the usual logical conditions from mathematics:\n",
    "\n",
    "Equals: a == b\n",
    "\n",
    "Not Equals: a != b\n",
    "\n",
    "Less than: a < b\n",
    "\n",
    "Less than or equal to: a <= b\n",
    "\n",
    "Greater than: a > b\n",
    "\n",
    "Greater than or equal to: a >= b\n",
    "\n",
    "These conditions can be used in several ways, most commonly in \"if statements\" and loops.\n",
    "\n",
    "An \"if statement\" is written by using the if keyword.\n",
    "\n"
   ]
  },
  {
   "cell_type": "code",
   "execution_count": 1,
   "metadata": {},
   "outputs": [
    {
     "name": "stdout",
     "output_type": "stream",
     "text": [
      "b is greater then a\n"
     ]
    }
   ],
   "source": [
    "a=10\n",
    "b=12\n",
    "if b>a:\n",
    "    print(\"b is greater then a\")"
   ]
  },
  {
   "cell_type": "code",
   "execution_count": 2,
   "metadata": {},
   "outputs": [
    {
     "name": "stdout",
     "output_type": "stream",
     "text": [
      "a is greater than or equals to b\n"
     ]
    }
   ],
   "source": [
    "a=10\n",
    "b=9\n",
    "if b>a:\n",
    "    print(\"b is greater then a\")\n",
    "else:\n",
    "    print(\"a is greater than or equals to b\")"
   ]
  },
  {
   "cell_type": "code",
   "execution_count": 5,
   "metadata": {},
   "outputs": [
    {
     "name": "stdout",
     "output_type": "stream",
     "text": [
      "both are topper\n"
     ]
    }
   ],
   "source": [
    "mark1=80\n",
    "mark2=80\n",
    "topper=''\n",
    "if(mark1>mark2):\n",
    "    topper=\"mark1 is topper\"\n",
    "elif(mark1==mark2):\n",
    "    topper=\"both are topper\"\n",
    "else:\n",
    "    topper=\"mark2 is topper\"\n",
    "print(topper)\n",
    "  "
   ]
  },
  {
   "cell_type": "code",
   "execution_count": 8,
   "metadata": {},
   "outputs": [
    {
     "name": "stdout",
     "output_type": "stream",
     "text": [
      "b is not small\n"
     ]
    }
   ],
   "source": [
    "a=2\n",
    "b=10\n",
    "c=3\n",
    "if(a>b or c>b):\n",
    "    print(\"b is small\")\n",
    "else:\n",
    "    print(\"b is not small\")"
   ]
  },
  {
   "cell_type": "code",
   "execution_count": 10,
   "metadata": {},
   "outputs": [
    {
     "name": "stdout",
     "output_type": "stream",
     "text": [
      "b is small\n"
     ]
    }
   ],
   "source": [
    "a=30\n",
    "b=10\n",
    "c=20\n",
    "if(a>b and c>b):\n",
    "    print(\"b is small\")\n",
    "else:\n",
    "    print(\"b is not small\")"
   ]
  },
  {
   "cell_type": "code",
   "execution_count": 12,
   "metadata": {},
   "outputs": [
    {
     "name": "stdout",
     "output_type": "stream",
     "text": [
      "a is smaller then b\n"
     ]
    }
   ],
   "source": [
    "a=3\n",
    "b=10\n",
    "c=20\n",
    "if(a>b and c>b):\n",
    "    print(\"b is small\")\n",
    "\n",
    "if a>b:\n",
    "    print(\"a is greater then\")\n",
    "else:\n",
    "    print(\"a is smaller then b\")"
   ]
  }
 ],
 "metadata": {
  "kernelspec": {
   "display_name": "base",
   "language": "python",
   "name": "python3"
  },
  "language_info": {
   "codemirror_mode": {
    "name": "ipython",
    "version": 3
   },
   "file_extension": ".py",
   "mimetype": "text/x-python",
   "name": "python",
   "nbconvert_exporter": "python",
   "pygments_lexer": "ipython3",
   "version": "3.12.7"
  }
 },
 "nbformat": 4,
 "nbformat_minor": 2
}
