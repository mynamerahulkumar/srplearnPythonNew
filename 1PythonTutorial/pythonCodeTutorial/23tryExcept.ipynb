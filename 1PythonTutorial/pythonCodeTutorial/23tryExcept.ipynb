{
 "cells": [
  {
   "cell_type": "markdown",
   "metadata": {},
   "source": [
    "# Python Try Except\n",
    "\n",
    "The try block lets you test a block of code for errors.\n",
    "\n",
    "The except block lets you handle the error.\n",
    "\n",
    "The else block lets you execute code when there is no error.\n",
    "\n",
    "The finally block lets you execute code, regardless of the result of the try- and except blocks.\n",
    "\n"
   ]
  },
  {
   "cell_type": "code",
   "execution_count": 5,
   "metadata": {},
   "outputs": [
    {
     "name": "stdout",
     "output_type": "stream",
     "text": [
      "Error is  division by zero\n",
      "Division operation\n"
     ]
    }
   ],
   "source": [
    "try:\n",
    "    y=0\n",
    "    x=10\n",
    "    z=x/y\n",
    "    print(z)\n",
    "except Exception as e:\n",
    "    print(\"Error is \",e)\n",
    "\n",
    "print(\"Division operation\")"
   ]
  },
  {
   "cell_type": "code",
   "execution_count": 6,
   "metadata": {},
   "outputs": [
    {
     "ename": "ZeroDivisionError",
     "evalue": "division by zero",
     "output_type": "error",
     "traceback": [
      "\u001b[0;31m---------------------------------------------------------------------------\u001b[0m",
      "\u001b[0;31mZeroDivisionError\u001b[0m                         Traceback (most recent call last)",
      "Cell \u001b[0;32mIn[6], line 3\u001b[0m\n\u001b[1;32m      1\u001b[0m y\u001b[38;5;241m=\u001b[39m\u001b[38;5;241m0\u001b[39m\n\u001b[1;32m      2\u001b[0m x\u001b[38;5;241m=\u001b[39m\u001b[38;5;241m10\u001b[39m\n\u001b[0;32m----> 3\u001b[0m z\u001b[38;5;241m=\u001b[39mx\u001b[38;5;241m/\u001b[39my\n\u001b[1;32m      4\u001b[0m \u001b[38;5;28mprint\u001b[39m(z)\n\u001b[1;32m      5\u001b[0m \u001b[38;5;28mprint\u001b[39m(\u001b[38;5;124m\"\u001b[39m\u001b[38;5;124mDivision by zero\u001b[39m\u001b[38;5;124m\"\u001b[39m)\n",
      "\u001b[0;31mZeroDivisionError\u001b[0m: division by zero"
     ]
    }
   ],
   "source": [
    "y=0\n",
    "x=10\n",
    "z=x/y\n",
    "print(z)\n",
    "print(\"Division by zero\")"
   ]
  },
  {
   "cell_type": "code",
   "execution_count": null,
   "metadata": {},
   "outputs": [
    {
     "name": "stdout",
     "output_type": "stream",
     "text": [
      "5.0\n",
      "close database connection\n"
     ]
    }
   ],
   "source": [
    "try:\n",
    "    y=2\n",
    "    x=10\n",
    "    z=x/y\n",
    "    #database connection code \n",
    "    print(z)\n",
    "    # database operation\n",
    "except Exception as e:\n",
    "    print(\"Error is \",e)\n",
    "finally:\n",
    "    # close database connection\n",
    "    print(\"close database connection\")\n"
   ]
  },
  {
   "cell_type": "code",
   "execution_count": 9,
   "metadata": {},
   "outputs": [],
   "source": [
    "def divide(a,b):\n",
    "    if b==0:\n",
    "        raise ValueError(\"Cannot be divided by zero\")\n",
    "    else:\n",
    "        return a/b\n",
    "    "
   ]
  },
  {
   "cell_type": "code",
   "execution_count": 10,
   "metadata": {},
   "outputs": [],
   "source": [
    "def operation(a,b):\n",
    "    try:\n",
    "        result=divide(a,b)\n",
    "        print(result)\n",
    "    except ValueError as e:\n",
    "        print(e)\n",
    "        "
   ]
  },
  {
   "cell_type": "code",
   "execution_count": 12,
   "metadata": {},
   "outputs": [
    {
     "name": "stdout",
     "output_type": "stream",
     "text": [
      "Cannot be divided by zero\n"
     ]
    }
   ],
   "source": [
    "operation(6,0)"
   ]
  },
  {
   "cell_type": "markdown",
   "metadata": {},
   "source": [
    "BaseException  (Parent class of all exceptions)\n",
    "└── Exception  (Child of BaseException, Parent of most built-in exceptions)\n",
    "    ├── TypeError\n",
    "    ├── ValueError\n",
    "    ├── IndexError\n",
    "    ├── KeyError\n",
    "    ├── ZeroDivisionError\n",
    "    ├── OSError\n",
    "    └── (many more)\n",
    "\n",
    "Parent class: Exception acts as a parent for most built-in exceptions (like TypeError, ValueError, etc.).\n",
    "\n",
    "Child class: Exception itself is a child of BaseException, which is the root of Python's exception hierarchy.\n"
   ]
  },
  {
   "cell_type": "code",
   "execution_count": null,
   "metadata": {},
   "outputs": [],
   "source": []
  },
  {
   "cell_type": "code",
   "execution_count": null,
   "metadata": {},
   "outputs": [],
   "source": []
  }
 ],
 "metadata": {
  "kernelspec": {
   "display_name": "base",
   "language": "python",
   "name": "python3"
  },
  "language_info": {
   "codemirror_mode": {
    "name": "ipython",
    "version": 3
   },
   "file_extension": ".py",
   "mimetype": "text/x-python",
   "name": "python",
   "nbconvert_exporter": "python",
   "pygments_lexer": "ipython3",
   "version": "3.12.7"
  }
 },
 "nbformat": 4,
 "nbformat_minor": 2
}
