{
 "cells": [
  {
   "cell_type": "markdown",
   "metadata": {},
   "source": [
    "# Python String Formatting\n",
    "\n",
    "F-String was introduced in Python 3.6, and is now the preferred way of formatting strings.\n",
    "\n",
    "Before Python 3.6 we had to use the format() method."
   ]
  },
  {
   "cell_type": "code",
   "execution_count": 1,
   "metadata": {},
   "outputs": [
    {
     "name": "stdout",
     "output_type": "stream",
     "text": [
      "the price of orange is dollar\n"
     ]
    }
   ],
   "source": [
    "txt=f\"the price of orange is dollar\"\n",
    "print(txt)"
   ]
  },
  {
   "cell_type": "code",
   "execution_count": 4,
   "metadata": {},
   "outputs": [
    {
     "name": "stdout",
     "output_type": "stream",
     "text": [
      "the price of orange is 2.5 dollar\n"
     ]
    }
   ],
   "source": [
    "price=2.50\n",
    "txt=f\"the price of orange is {price} dollar\"\n",
    "print(txt)"
   ]
  },
  {
   "cell_type": "code",
   "execution_count": 5,
   "metadata": {},
   "outputs": [
    {
     "name": "stdout",
     "output_type": "stream",
     "text": [
      "the price of orange is 2.50 dollar\n"
     ]
    }
   ],
   "source": [
    "price=2.50\n",
    "txt=f\"the price of orange is {price:.2f} dollar\"\n",
    "print(txt)"
   ]
  },
  {
   "cell_type": "code",
   "execution_count": 6,
   "metadata": {},
   "outputs": [
    {
     "name": "stdout",
     "output_type": "stream",
     "text": [
      "the price of orange is 5.00 dollar\n"
     ]
    }
   ],
   "source": [
    "txt=f\"the price of orange is {5:.2f} dollar\"\n",
    "print(txt)"
   ]
  },
  {
   "cell_type": "code",
   "execution_count": 7,
   "metadata": {},
   "outputs": [
    {
     "name": "stdout",
     "output_type": "stream",
     "text": [
      "the price of orange is 1.5 dollar\n"
     ]
    }
   ],
   "source": [
    "txt=f\"the price of orange is {1*1.5} dollar\"\n",
    "print(txt)"
   ]
  },
  {
   "cell_type": "code",
   "execution_count": 9,
   "metadata": {},
   "outputs": [
    {
     "name": "stdout",
     "output_type": "stream",
     "text": [
      "the price of orange is cheap \n"
     ]
    }
   ],
   "source": [
    "price=4\n",
    "txt=f\"the price of orange is {'Expensive' if price>5 else 'cheap'} \"\n",
    "print(txt)"
   ]
  },
  {
   "cell_type": "code",
   "execution_count": 10,
   "metadata": {},
   "outputs": [],
   "source": [
    "def totalPrice(quantity,unitprice):\n",
    "    return quantity*unitprice"
   ]
  },
  {
   "cell_type": "code",
   "execution_count": 12,
   "metadata": {},
   "outputs": [
    {
     "name": "stdout",
     "output_type": "stream",
     "text": [
      "Total cose of 10 orange is 20\n"
     ]
    }
   ],
   "source": [
    "quantity=10\n",
    "unitprice=2\n",
    "txt=f\"Total cose of {quantity} orange is {totalPrice(quantity,unitprice)}\"\n",
    "print(txt)"
   ]
  }
 ],
 "metadata": {
  "kernelspec": {
   "display_name": "base",
   "language": "python",
   "name": "python3"
  },
  "language_info": {
   "codemirror_mode": {
    "name": "ipython",
    "version": 3
   },
   "file_extension": ".py",
   "mimetype": "text/x-python",
   "name": "python",
   "nbconvert_exporter": "python",
   "pygments_lexer": "ipython3",
   "version": "3.12.7"
  }
 },
 "nbformat": 4,
 "nbformat_minor": 2
}
