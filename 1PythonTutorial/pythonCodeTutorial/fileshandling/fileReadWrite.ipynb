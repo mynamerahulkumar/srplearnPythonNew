{
 "cells": [
  {
   "cell_type": "markdown",
   "metadata": {},
   "source": [
    "# Python File Open\n",
    "\n",
    "File handling is an important part of any web application.\n",
    "\n",
    "Python has several functions for creating, reading, updating, and deleting files.\n",
    "\n"
   ]
  },
  {
   "cell_type": "markdown",
   "metadata": {},
   "source": [
    "# File Handling\n",
    "The key function for working with files in Python is the open() function.\n",
    "\n",
    "The open() function takes two parameters; filename, and mode.\n",
    "\n",
    "There are four different methods (modes) for opening a file:\n",
    "\n",
    "\"r\" - Read - Default value. Opens a file for reading, error if the file does not exist\n",
    "\n",
    "\"a\" - Append - Opens a file for appending, creates the file if it does not exist\n",
    "\n",
    "\"w\" - Write - Opens a file for writing, creates the file if it does not exist\n",
    "\n",
    "\"x\" - Create - Creates the specified file, returns an error if the file exists"
   ]
  },
  {
   "cell_type": "code",
   "execution_count": 1,
   "metadata": {},
   "outputs": [
    {
     "name": "stdout",
     "output_type": "stream",
     "text": [
      "Write to an Existing File\n",
      "To write to an existing file, you must add a parameter to the open() function:\n",
      "\"a\" - Append - will append to the end of the file\n",
      "\"w\" - Write - will overwrite any existing content\n",
      "\n",
      "\n"
     ]
    }
   ],
   "source": [
    "f=open('input.txt','r')\n",
    "print(f.read())"
   ]
  },
  {
   "cell_type": "code",
   "execution_count": 2,
   "metadata": {},
   "outputs": [
    {
     "name": "stdout",
     "output_type": "stream",
     "text": [
      "Write to an Existing File\n",
      "\n"
     ]
    }
   ],
   "source": [
    "f=open('input.txt','r')\n",
    "print(f.readline())"
   ]
  },
  {
   "cell_type": "code",
   "execution_count": 4,
   "metadata": {},
   "outputs": [
    {
     "name": "stdout",
     "output_type": "stream",
     "text": [
      "Write to an Existing File\n",
      "\n",
      "To write to an existing file, you must add a parameter to the open() function:\n",
      "\n",
      "\"a\" - Append - will append to the end of the file\n",
      "\n",
      "\"w\" - Write - will overwrite any existing content\n",
      "\n",
      "\n",
      "\n"
     ]
    }
   ],
   "source": [
    "f=open('input.txt','r')\n",
    "\n",
    "for x in f:\n",
    "    print(x)\n",
    "f.close()"
   ]
  },
  {
   "cell_type": "code",
   "execution_count": 5,
   "metadata": {},
   "outputs": [
    {
     "name": "stdout",
     "output_type": "stream",
     "text": [
      "Write to an Existing File\n",
      "To write to an existing file, you must add a parameter to the open() function:\n",
      "\"a\" - Append - will append to the end of the file\n",
      "\"w\" - Write - will overwrite any existing content\n",
      "\n",
      "my name is Rahul\n"
     ]
    }
   ],
   "source": [
    "f=open(\"input.txt\",'a')\n",
    "f.write(\"my name is Rahul\")\n",
    "f.close()\n",
    "\n",
    "f=open('input.txt','r')\n",
    "print(f.read())"
   ]
  },
  {
   "cell_type": "code",
   "execution_count": 7,
   "metadata": {},
   "outputs": [
    {
     "name": "stdout",
     "output_type": "stream",
     "text": [
      "my name is Rohit\n"
     ]
    }
   ],
   "source": [
    "f=open(\"input.txt\",'w')\n",
    "f.write(\"my name is Rohit\")\n",
    "f.close()\n",
    "\n",
    "f=open('input.txt','r')\n",
    "print(f.read())"
   ]
  },
  {
   "cell_type": "code",
   "execution_count": 8,
   "metadata": {},
   "outputs": [
    {
     "name": "stdout",
     "output_type": "stream",
     "text": [
      "my name is Rahul\n"
     ]
    }
   ],
   "source": [
    "f=open(\"temp.txt\",'a')\n",
    "f.write(\"my name is Rahul\")\n",
    "f.close()\n",
    "\n",
    "f=open('temp.txt','r')\n",
    "print(f.read())"
   ]
  }
 ],
 "metadata": {
  "kernelspec": {
   "display_name": "base",
   "language": "python",
   "name": "python3"
  },
  "language_info": {
   "codemirror_mode": {
    "name": "ipython",
    "version": 3
   },
   "file_extension": ".py",
   "mimetype": "text/x-python",
   "name": "python",
   "nbconvert_exporter": "python",
   "pygments_lexer": "ipython3",
   "version": "3.12.7"
  }
 },
 "nbformat": 4,
 "nbformat_minor": 2
}
