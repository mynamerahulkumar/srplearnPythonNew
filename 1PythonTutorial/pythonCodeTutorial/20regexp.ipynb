{
 "cells": [
  {
   "cell_type": "markdown",
   "metadata": {},
   "source": [
    "# Python RegEx\n",
    "\n",
    "A RegEx, or Regular Expression, is a sequence of characters that forms a search pattern.\n",
    "\n",
    "RegEx can be used to check if a string contains the specified search pattern."
   ]
  },
  {
   "cell_type": "code",
   "execution_count": 20,
   "metadata": {},
   "outputs": [],
   "source": [
    "import re"
   ]
  },
  {
   "cell_type": "code",
   "execution_count": 25,
   "metadata": {},
   "outputs": [
    {
     "name": "stdout",
     "output_type": "stream",
     "text": [
      "['ai', 'ai']\n"
     ]
    }
   ],
   "source": [
    "txt=\"The rain in spain\"\n",
    "x=re.findall(\"ai\",txt)\n",
    "print(x)"
   ]
  },
  {
   "cell_type": "code",
   "execution_count": 26,
   "metadata": {},
   "outputs": [
    {
     "name": "stdout",
     "output_type": "stream",
     "text": [
      "3\n"
     ]
    },
    {
     "name": "stderr",
     "output_type": "stream",
     "text": [
      "<>:2: SyntaxWarning: invalid escape sequence '\\s'\n",
      "<>:2: SyntaxWarning: invalid escape sequence '\\s'\n",
      "/var/folders/7z/5qb9wcyx7z9b5_ff36bxqt8c0000gn/T/ipykernel_3801/2751893245.py:2: SyntaxWarning: invalid escape sequence '\\s'\n",
      "  x=re.search(\"\\s\",txt)\n"
     ]
    }
   ],
   "source": [
    "txt=\"The rain in spain\"\n",
    "x=re.search(\"\\s\",txt)\n",
    "print(x.start())"
   ]
  },
  {
   "cell_type": "code",
   "execution_count": 28,
   "metadata": {},
   "outputs": [
    {
     "name": "stdout",
     "output_type": "stream",
     "text": [
      "None\n"
     ]
    }
   ],
   "source": [
    "txt=\"The rain in spain\"\n",
    "x=re.search(\"summer\",txt)\n",
    "print(x)"
   ]
  },
  {
   "cell_type": "code",
   "execution_count": 29,
   "metadata": {},
   "outputs": [
    {
     "name": "stdout",
     "output_type": "stream",
     "text": [
      "['The', 'rain', 'in', 'spain']\n"
     ]
    },
    {
     "name": "stderr",
     "output_type": "stream",
     "text": [
      "<>:2: SyntaxWarning: invalid escape sequence '\\s'\n",
      "<>:2: SyntaxWarning: invalid escape sequence '\\s'\n",
      "/var/folders/7z/5qb9wcyx7z9b5_ff36bxqt8c0000gn/T/ipykernel_3801/3361851527.py:2: SyntaxWarning: invalid escape sequence '\\s'\n",
      "  x=re.split(\"\\s\",txt)\n"
     ]
    }
   ],
   "source": [
    "txt=\"The rain in spain\"\n",
    "x=re.split(\"\\s\",txt)\n",
    "print(x)"
   ]
  }
 ],
 "metadata": {
  "kernelspec": {
   "display_name": "base",
   "language": "python",
   "name": "python3"
  },
  "language_info": {
   "codemirror_mode": {
    "name": "ipython",
    "version": 3
   },
   "file_extension": ".py",
   "mimetype": "text/x-python",
   "name": "python",
   "nbconvert_exporter": "python",
   "pygments_lexer": "ipython3",
   "version": "3.12.7"
  }
 },
 "nbformat": 4,
 "nbformat_minor": 2
}
